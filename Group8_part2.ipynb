{
 "cells": [
  {
   "cell_type": "markdown",
   "id": "57c1c2e0",
   "metadata": {},
   "source": [
    "# Advanced Deep Learning Project - Part 2\n",
    "## Group 8\n",
    "### Yael Heger, Hila Baram, Ella Tamir"
   ]
  },
  {
   "cell_type": "markdown",
   "id": "d240e48b",
   "metadata": {},
   "source": [
    "### Imports: "
   ]
  },
  {
   "cell_type": "code",
   "execution_count": 2,
   "id": "d7d91896",
   "metadata": {},
   "outputs": [],
   "source": [
    "# Torch:\n",
    "import torch\n",
    "from torch import tensor\n",
    "import torch.nn as nn\n",
    "import torch.nn.utils.prune as prune\n",
    "import torch.quantization as quantization\n",
    "\n",
    "# Transformers:\n",
    "from transformers import Trainer, TrainingArguments\n",
    "from transformers import AutoModelForSequenceClassification, AutoTokenizer, AutoConfig, AlbertTokenizer, AlbertModel\n",
    "\n",
    "# SkLearn:\n",
    "from sklearn.model_selection import train_test_split\n",
    "from sklearn.metrics import roc_auc_score, roc_curve, auc, plot_roc_curve, accuracy_score, auc, f1_score, precision_score, recall_score  \n",
    "\n",
    "# Matplotlib:\n",
    "import matplotlib.pyplot as plt\n",
    "\n",
    "# Others:\n",
    "import pandas as pd\n",
    "import os\n",
    "import re\n",
    "import warnings\n",
    "import string\n",
    "import nltk\n",
    "from nltk import corpus\n",
    "from datasets import Dataset, DatasetDict, load_dataset, load_metric"
   ]
  },
  {
   "cell_type": "markdown",
   "id": "d7c7454d",
   "metadata": {},
   "source": [
    " Reading the data"
   ]
  },
  {
   "cell_type": "code",
   "execution_count": 3,
   "id": "ae88c928",
   "metadata": {},
   "outputs": [],
   "source": [
    "# Enter the location of the data localy.\n",
    "\n",
    "data_neg = 'C:/Users/user/Documents/Advanced Deep Learning/Group8/train_data (1)/train/neg'\n",
    "data_pos = 'C:/Users/user/Documents/Advanced Deep Learning/Group8/train_data (1)/train/pos'"
   ]
  },
  {
   "cell_type": "code",
   "execution_count": 4,
   "id": "e2c4cf77",
   "metadata": {},
   "outputs": [],
   "source": [
    "def read_data_to_list(data_dir):\n",
    "    # The function receives the path of the files.\n",
    "    # The function returns a list containing the files paths and a list containing the data.\n",
    "    \n",
    "    txt_files = []    # A list to save the opened review files.\n",
    "    file_paths = []\n",
    "    for (roots, dirs, files) in os.walk(data_dir): # Reading every file in every folder.     \n",
    "        for obj in files:  \n",
    "            file = open(roots + '/'+ obj, 'r', encoding = 'utf-8')\n",
    "            file_paths.append(roots + '/'+ obj)\n",
    "            cont = file.read()\n",
    "            txt_files.append(cont)\n",
    "            file.close()\n",
    "    return file_paths, txt_files"
   ]
  },
  {
   "cell_type": "code",
   "execution_count": 5,
   "id": "32091be0",
   "metadata": {},
   "outputs": [],
   "source": [
    "neg_files, neg_rev = read_data_to_list(data_neg)   # Negative reviews\n",
    "pos_files, pos_rev = read_data_to_list(data_pos)   # Positive reviews"
   ]
  },
  {
   "cell_type": "markdown",
   "id": "f69023c2",
   "metadata": {},
   "source": [
    "Converting to Dataframe"
   ]
  },
  {
   "cell_type": "code",
   "execution_count": 6,
   "id": "e24a9853",
   "metadata": {},
   "outputs": [
    {
     "data": {
      "text/html": [
       "<div>\n",
       "<style scoped>\n",
       "    .dataframe tbody tr th:only-of-type {\n",
       "        vertical-align: middle;\n",
       "    }\n",
       "\n",
       "    .dataframe tbody tr th {\n",
       "        vertical-align: top;\n",
       "    }\n",
       "\n",
       "    .dataframe thead th {\n",
       "        text-align: right;\n",
       "    }\n",
       "</style>\n",
       "<table border=\"1\" class=\"dataframe\">\n",
       "  <thead>\n",
       "    <tr style=\"text-align: right;\">\n",
       "      <th></th>\n",
       "      <th>Review</th>\n",
       "    </tr>\n",
       "  </thead>\n",
       "  <tbody>\n",
       "    <tr>\n",
       "      <th>0</th>\n",
       "      <td>Bromwell High is a cartoon comedy. It ran at t...</td>\n",
       "    </tr>\n",
       "    <tr>\n",
       "      <th>1</th>\n",
       "      <td>Homelessness (or Houselessness as George Carli...</td>\n",
       "    </tr>\n",
       "    <tr>\n",
       "      <th>2</th>\n",
       "      <td>Brilliant over-acting by Lesley Ann Warren. Be...</td>\n",
       "    </tr>\n",
       "    <tr>\n",
       "      <th>3</th>\n",
       "      <td>This is easily the most underrated film inn th...</td>\n",
       "    </tr>\n",
       "    <tr>\n",
       "      <th>4</th>\n",
       "      <td>This is not the typical Mel Brooks film. It wa...</td>\n",
       "    </tr>\n",
       "    <tr>\n",
       "      <th>...</th>\n",
       "      <td>...</td>\n",
       "    </tr>\n",
       "    <tr>\n",
       "      <th>18745</th>\n",
       "      <td>Seeing as the vote average was pretty low, and...</td>\n",
       "    </tr>\n",
       "    <tr>\n",
       "      <th>18746</th>\n",
       "      <td>The plot had some wretched, unbelievable twist...</td>\n",
       "    </tr>\n",
       "    <tr>\n",
       "      <th>18747</th>\n",
       "      <td>I am amazed at how this movie(and most others ...</td>\n",
       "    </tr>\n",
       "    <tr>\n",
       "      <th>18748</th>\n",
       "      <td>A Christmas Together actually came before my t...</td>\n",
       "    </tr>\n",
       "    <tr>\n",
       "      <th>18749</th>\n",
       "      <td>Working-class romantic drama from director Mar...</td>\n",
       "    </tr>\n",
       "  </tbody>\n",
       "</table>\n",
       "<p>18750 rows × 1 columns</p>\n",
       "</div>"
      ],
      "text/plain": [
       "                                                  Review\n",
       "0      Bromwell High is a cartoon comedy. It ran at t...\n",
       "1      Homelessness (or Houselessness as George Carli...\n",
       "2      Brilliant over-acting by Lesley Ann Warren. Be...\n",
       "3      This is easily the most underrated film inn th...\n",
       "4      This is not the typical Mel Brooks film. It wa...\n",
       "...                                                  ...\n",
       "18745  Seeing as the vote average was pretty low, and...\n",
       "18746  The plot had some wretched, unbelievable twist...\n",
       "18747  I am amazed at how this movie(and most others ...\n",
       "18748  A Christmas Together actually came before my t...\n",
       "18749  Working-class romantic drama from director Mar...\n",
       "\n",
       "[18750 rows x 1 columns]"
      ]
     },
     "execution_count": 6,
     "metadata": {},
     "output_type": "execute_result"
    }
   ],
   "source": [
    "pos_pd = pd.DataFrame(pos_rev, columns=[\"Review\"])\n",
    "pos_pd"
   ]
  },
  {
   "cell_type": "code",
   "execution_count": 7,
   "id": "cf8962a8",
   "metadata": {},
   "outputs": [],
   "source": [
    "neg_pd = pd.DataFrame(neg_rev, columns=[\"Review\"])"
   ]
  },
  {
   "cell_type": "markdown",
   "id": "79e3fc35",
   "metadata": {},
   "source": [
    "## Pre- Processing "
   ]
  },
  {
   "cell_type": "markdown",
   "id": "3152da75",
   "metadata": {},
   "source": [
    "First, we are cleaning the data from punctuation and converting all letters to lower-case, seperatley for the positive and negative reviews "
   ]
  },
  {
   "cell_type": "code",
   "execution_count": 8,
   "id": "701fe324",
   "metadata": {},
   "outputs": [],
   "source": [
    "string.punctuation\n",
    "\n",
    "def remove_punctuation(text):\n",
    "    # The function receives the text to clean.\n",
    "    # The function clears punctuation marks and other non-alphabetic characters and converts all the text to lower case.\n",
    "    # The function returns the cleaned data.\n",
    "    brs = [\"br\", \"<br>\", \"</br>\", \" br\", \"br \"]   # To clean all the different shapes that there's in the data. \n",
    "    punctuationfree=\"\".join([i for i in text if i not in brs])\n",
    "    punctuationfree=\"\".join([i for i in text if i not in string.punctuation])\n",
    "    return punctuationfree"
   ]
  },
  {
   "cell_type": "code",
   "execution_count": 9,
   "id": "f7dc5328",
   "metadata": {},
   "outputs": [],
   "source": [
    "pos_pd[\"Review\"] = pos_pd[\"Review\"].apply(lambda x:remove_punctuation(x))\n",
    "neg_pd[\"Review\"] = neg_pd[\"Review\"].apply(lambda x:remove_punctuation(x))"
   ]
  },
  {
   "cell_type": "code",
   "execution_count": 10,
   "id": "b43d1b76",
   "metadata": {},
   "outputs": [],
   "source": [
    "pos_pd['Review'] = pos_pd['Review'].apply(lambda x: x.lower())\n",
    "neg_pd['Review'] = neg_pd['Review'].apply(lambda x: x.lower())"
   ]
  },
  {
   "cell_type": "markdown",
   "id": "93c0f4d3",
   "metadata": {},
   "source": [
    "Second, we will split the sentences to a list of words. "
   ]
  },
  {
   "cell_type": "code",
   "execution_count": 11,
   "id": "1577c609",
   "metadata": {},
   "outputs": [],
   "source": [
    "def split(text):\n",
    "    tokens = re.split(' ',text)\n",
    "    return tokens"
   ]
  },
  {
   "cell_type": "code",
   "execution_count": 12,
   "id": "fbda5dcc",
   "metadata": {},
   "outputs": [],
   "source": [
    "pos_pd[\"Review\"] = pos_pd[\"Review\"].apply(lambda x: split(x))\n",
    "neg_pd[\"Review\"] = neg_pd[\"Review\"].apply(lambda x: split(x))"
   ]
  },
  {
   "cell_type": "markdown",
   "id": "baebebe3",
   "metadata": {},
   "source": [
    "### removing stop words "
   ]
  },
  {
   "cell_type": "markdown",
   "id": "aefcb4f4",
   "metadata": {},
   "source": [
    "In order to remove stopwords, we are using the stopwords dictionary from nltk"
   ]
  },
  {
   "cell_type": "code",
   "execution_count": 13,
   "id": "11876531",
   "metadata": {},
   "outputs": [
    {
     "name": "stderr",
     "output_type": "stream",
     "text": [
      "[nltk_data] Downloading package stopwords to\n",
      "[nltk_data]     C:\\Users\\user\\AppData\\Roaming\\nltk_data...\n",
      "[nltk_data]   Package stopwords is already up-to-date!\n"
     ]
    }
   ],
   "source": [
    "nltk.download('stopwords')\n",
    "warnings.filterwarnings('ignore')\n",
    "def remove_stopwords(text):\n",
    "    stopwords = corpus.stopwords.words('english')\n",
    "    output= [i for i in text if i not in stopwords]\n",
    "    return output"
   ]
  },
  {
   "cell_type": "code",
   "execution_count": 14,
   "id": "e8319725",
   "metadata": {},
   "outputs": [],
   "source": [
    "pos_pd[\"Review\"] = pos_pd[\"Review\"].apply(lambda x:remove_stopwords(x))\n",
    "neg_pd[\"Review\"] = neg_pd[\"Review\"].apply(lambda x:remove_stopwords(x))"
   ]
  },
  {
   "cell_type": "markdown",
   "id": "b5d69ab6",
   "metadata": {},
   "source": [
    "## Exploration "
   ]
  },
  {
   "cell_type": "code",
   "execution_count": 15,
   "id": "5d1b0d1b",
   "metadata": {},
   "outputs": [],
   "source": [
    "def length_and_count_data(data):\n",
    "    # The function receives data and returns its length and a dictionary that contains the number of times each word appears.\n",
    "    lengths_list = []\n",
    "    words_dict = {}\n",
    "    for i in range(len(data)):\n",
    "        lengths_list.append(len(data[i]))\n",
    "        split_sentence = data[i]\n",
    "        for word in split_sentence:\n",
    "                if word not in words_dict.keys(): # If new word.\n",
    "                    words_dict[word] = 1\n",
    "                else:\n",
    "                    words_dict[word] +=1 # Appears more than once. \n",
    "    return lengths_list, words_dict"
   ]
  },
  {
   "cell_type": "code",
   "execution_count": 16,
   "id": "25565a5f",
   "metadata": {},
   "outputs": [],
   "source": [
    "pos_lengths, pos_dict = length_and_count_data(pos_pd[\"Review\"])\n",
    "neg_lengths, neg_dict = length_and_count_data(neg_pd[\"Review\"])"
   ]
  },
  {
   "cell_type": "markdown",
   "id": "def9d893",
   "metadata": {},
   "source": [
    "### Length histogram for each review type "
   ]
  },
  {
   "cell_type": "markdown",
   "id": "0e05584f",
   "metadata": {},
   "source": [
    "In these histograms we can see the expected value of the sentences length, seperated to negative and positive reviews.\n",
    "\n",
    "y axis - number of words for each length.\n",
    "\n",
    "x axis - lengths."
   ]
  },
  {
   "cell_type": "code",
   "execution_count": 17,
   "id": "e3a6fd73",
   "metadata": {},
   "outputs": [
    {
     "data": {
      "image/png": "[encoded data removed]",
      "text/plain": [
       "<Figure size 1080x360 with 2 Axes>"
      ]
     },
     "metadata": {
      "needs_background": "light"
     },
     "output_type": "display_data"
    }
   ],
   "source": [
    "fig, ax = plt.subplots(1,2, figsize=[15,5])\n",
    "ax[0].hist(pos_lengths, bins = 400, color='forestgreen')\n",
    "ax[0].set_title(\"Positive reviews length\",{'fontsize':15})\n",
    "ax[1].hist(neg_lengths, bins = 400, color = \"crimson\")\n",
    "ax[1].set_title(\"Negative reviews length\",{'fontsize':15})\n",
    "plt.show()"
   ]
  },
  {
   "cell_type": "markdown",
   "id": "ed008d73",
   "metadata": {},
   "source": [
    "### Most Common words "
   ]
  },
  {
   "cell_type": "markdown",
   "id": "1506cc1a",
   "metadata": {},
   "source": [
    "Now we will check the most common words for each type without removing words that are common in both types of reviews\n",
    "\n",
    "y axis - number of appearences.\n",
    "\n",
    "x axis - word."
   ]
  },
  {
   "cell_type": "code",
   "execution_count": 18,
   "id": "b30b9f5c",
   "metadata": {},
   "outputs": [],
   "source": [
    "mc_pos = sorted(pos_dict.items(), key=lambda k_v: k_v[1], reverse=True)[:15]\n",
    "mc_neg = sorted(neg_dict.items(), key=lambda k_v: k_v[1], reverse=True)[:15]\n",
    "\n",
    "# Draw the bar chart\n",
    "def draw_words_hist(mc_pos, mc_neg):\n",
    "    mc_pos = dict(mc_pos)\n",
    "    names_pos = list(mc_pos.keys())\n",
    "    values_pos = list(mc_pos.values())\n",
    "\n",
    "    mc_neg = dict(mc_neg)\n",
    "    names_neg = list(mc_neg.keys())\n",
    "    values_neg = list(mc_neg.values())\n",
    "\n",
    "    fig, ax = plt.subplots(1,2, figsize=[25,5])\n",
    "    ax[0].bar(range(len(mc_pos)),values_pos,tick_label=names_pos, color = \"forestgreen\")\n",
    "    ax[0].set_title(\"Positive\",{'fontsize':20})\n",
    "    ax[1].bar(range(len(mc_neg)),values_neg,tick_label=names_neg, color = \"crimson\")\n",
    "    ax[1].set_title(\"Negative\",{'fontsize':20})\n",
    "    plt.show()    "
   ]
  },
  {
   "cell_type": "code",
   "execution_count": 19,
   "id": "5db171a4",
   "metadata": {},
   "outputs": [
    {
     "data": {
      "image/png": "[encoded data removed]",
      "text/plain": [
       "<Figure size 1800x360 with 2 Axes>"
      ]
     },
     "metadata": {
      "needs_background": "light"
     },
     "output_type": "display_data"
    }
   ],
   "source": [
    "draw_words_hist(mc_pos, mc_neg)"
   ]
  },
  {
   "cell_type": "markdown",
   "id": "85a8e9ba",
   "metadata": {},
   "source": [
    "Next we will remove non unique words- if a word is in the top 100 most common words for negative and positive data, we will remove it because it has no contribution to the classification"
   ]
  },
  {
   "cell_type": "code",
   "execution_count": 20,
   "id": "c9b22b57",
   "metadata": {},
   "outputs": [],
   "source": [
    "dict_pos = sorted(pos_dict.items(), key=lambda k_v: k_v[1], reverse=True)\n",
    "dict_neg = sorted(neg_dict.items(), key=lambda k_v: k_v[1], reverse=True)\n",
    "word_pos_top_100 = [x[0] for x in dict_pos[:100]] \n",
    "word_neg_top_100 = [x[0] for x in dict_neg[:100]] \n",
    "count = 0\n",
    "removed_words = []\n",
    "flag = True\n",
    "while count < 100 and flag:\n",
    "    word = word_pos_top_100[count]\n",
    "    if word in word_neg_top_100:\n",
    "        if count == len(word_pos_top_100)-1:\n",
    "            flag = False\n",
    "            \n",
    "        ind_pos = word_pos_top_100.index(word)\n",
    "        dict_pos.pop(ind_pos)\n",
    "        word_pos_top_100.pop(ind_pos)\n",
    "        \n",
    "        ind_neg = word_neg_top_100.index(word)\n",
    "        dict_neg.pop(ind_neg)\n",
    "        word_neg_top_100.pop(ind_neg)\n",
    "        \n",
    "        removed_words.append(word)\n",
    "\n",
    "    else:\n",
    "        count += 1\n",
    "        \n",
    "\n",
    "top_100_pos = dict_pos[:15]\n",
    "top_100_neg = dict_neg[:15]"
   ]
  },
  {
   "cell_type": "code",
   "execution_count": 21,
   "id": "89571b6e",
   "metadata": {},
   "outputs": [
    {
     "name": "stdout",
     "output_type": "stream",
     "text": [
      "Number of deleted words:  78\n",
      "Deleted words:\n",
      "['br', 'film', 'movie', 'one', '', 'like', 'good', 'great', 'story', 'time', 'see', 'well', 'also', 'really', 'would', 'even', 'much', 'first', 'people', 'films', 'love', 'best', 'get', 'way', 'life', 'many', 'characters', 'think', 'movies', 'made', 'two', 'seen', 'dont', 'character', 'show', 'watch', 'still', 'little', 'make', 'never', 'could', 'man', 'know', 'ever', 'end', 'scene', 'real', 'say', 'back', 'scenes', 'makes', 'acting', 'go', 'better', 'though', 'plot', 'find', 'work', 'lot', 'something', 'another', 'old', 'part', 'actors', 'every', 'funny', 'im', 'watching', 'doesnt', 'look', 'bad', 'things', 'going', 'actually', 'director', 'didnt', 'thing', 'around']\n"
     ]
    }
   ],
   "source": [
    "print(\"Number of deleted words: \", len(removed_words))\n",
    "print(\"Deleted words:\")\n",
    "print(removed_words)"
   ]
  },
  {
   "cell_type": "code",
   "execution_count": 22,
   "id": "66a755af",
   "metadata": {},
   "outputs": [],
   "source": [
    "def remove_common_words(text):\n",
    "    output = [i for i in text if i not in removed_words]\n",
    "    return output"
   ]
  },
  {
   "cell_type": "code",
   "execution_count": 23,
   "id": "19dcadbd",
   "metadata": {},
   "outputs": [],
   "source": [
    "pos_pd[\"Review\"] = pos_pd[\"Review\"].apply(lambda x:remove_common_words(x))\n",
    "neg_pd[\"Review\"] = neg_pd[\"Review\"].apply(lambda x:remove_common_words(x))"
   ]
  },
  {
   "cell_type": "code",
   "execution_count": 24,
   "id": "5ebbc1eb",
   "metadata": {},
   "outputs": [
    {
     "data": {
      "image/png": "[encoded data removed]",
      "text/plain": [
       "<Figure size 1800x360 with 2 Axes>"
      ]
     },
     "metadata": {
      "needs_background": "light"
     },
     "output_type": "display_data"
    }
   ],
   "source": [
    "draw_words_hist(top_100_pos, top_100_neg)"
   ]
  },
  {
   "cell_type": "code",
   "execution_count": 25,
   "id": "c0006a91",
   "metadata": {},
   "outputs": [],
   "source": [
    "# Adding spaces\n",
    "pos_pd[\"Review\"] = pos_pd[\"Review\"].apply(lambda x:\" \".join(x))\n",
    "neg_pd[\"Review\"] = neg_pd[\"Review\"].apply(lambda x:\" \".join(x))"
   ]
  },
  {
   "cell_type": "markdown",
   "id": "d7512e6c",
   "metadata": {},
   "source": [
    "## Models & Training "
   ]
  },
  {
   "cell_type": "code",
   "execution_count": 26,
   "id": "3b629645",
   "metadata": {},
   "outputs": [
    {
     "data": {
      "text/plain": [
       "device(type='cuda')"
      ]
     },
     "execution_count": 26,
     "metadata": {},
     "output_type": "execute_result"
    }
   ],
   "source": [
    "# Running on GPU\n",
    "device = torch.device(\"cuda\" if torch.cuda.is_available() else \"cpu\")\n",
    "device"
   ]
  },
  {
   "cell_type": "markdown",
   "id": "124ca86b",
   "metadata": {},
   "source": [
    "split the data to train and test"
   ]
  },
  {
   "cell_type": "code",
   "execution_count": 27,
   "id": "27f6d7b3",
   "metadata": {},
   "outputs": [],
   "source": [
    "pos_pd['Labels'] = 1\n",
    "neg_pd['Labels'] = 0"
   ]
  },
  {
   "cell_type": "code",
   "execution_count": 28,
   "id": "80ffc65b",
   "metadata": {},
   "outputs": [],
   "source": [
    "data = pd.concat([pos_pd[\"Review\"], neg_pd[\"Review\"]])\n",
    "labels = pd.concat([pos_pd[\"Labels\"], neg_pd[\"Labels\"]])"
   ]
  },
  {
   "cell_type": "code",
   "execution_count": 29,
   "id": "d45ad217",
   "metadata": {},
   "outputs": [],
   "source": [
    "X_train ,X_test ,y_train ,y_test = train_test_split(data, labels, test_size=0.25, random_state=42, shuffle = True)"
   ]
  },
  {
   "cell_type": "code",
   "execution_count": 30,
   "id": "252e7c84",
   "metadata": {},
   "outputs": [],
   "source": [
    "train_df = pd.DataFrame(list(zip(X_train, y_train)), columns =['text','labels'])\n",
    "test_df = pd.DataFrame(list(zip(X_test, y_test)), columns =['text','labels'])"
   ]
  },
  {
   "cell_type": "markdown",
   "id": "722e9fee",
   "metadata": {},
   "source": [
    "### Defining the Dataset Dict:"
   ]
  },
  {
   "cell_type": "markdown",
   "id": "f2fc44a7",
   "metadata": {},
   "source": [
    "Choosing the models"
   ]
  },
  {
   "cell_type": "code",
   "execution_count": 31,
   "id": "3246a54b",
   "metadata": {},
   "outputs": [],
   "source": [
    "from datasets import load_dataset"
   ]
  },
  {
   "cell_type": "code",
   "execution_count": 32,
   "id": "bfbfbc15",
   "metadata": {},
   "outputs": [],
   "source": [
    "raw_datasets = DatasetDict()\n",
    "\n",
    "raw_datasets['train'] = Dataset.from_pandas(train_df)\n",
    "raw_datasets['test'] = Dataset.from_pandas(test_df)"
   ]
  },
  {
   "cell_type": "markdown",
   "id": "f1de274a",
   "metadata": {},
   "source": [
    "### Defining a Pre-trained model as a class "
   ]
  },
  {
   "cell_type": "code",
   "execution_count": 33,
   "id": "abf57fcc",
   "metadata": {},
   "outputs": [],
   "source": [
    "class Pre_trained_Model():\n",
    "    \n",
    "    def __init__(self, name, lr, lossFunc, dataset):\n",
    "        self.name = name\n",
    "        self.model = AutoModelForSequenceClassification.from_pretrained(self.name, num_labels = 2)\n",
    "        self.tokenizer = AutoTokenizer.from_pretrained(self.name)\n",
    "        self.dataset = dataset\n",
    "        self.tokenized_dataset = None\n",
    "        self.tokenized_test = None\n",
    "        self.lossFunc = lossFunc\n",
    "        self.lr = lr\n",
    "        \n",
    "        # Trying different optimizers: Adam Selected!\n",
    "        self.optimizer = torch.optim.Adam(self.model.parameters(), self.lr)\n",
    "        #self.optimizer = torch.optim.Adagrad(self.model.parameters(), self.lr)\n",
    "        #self.optimizer = torch.optim.RMSprop(self.model.parameters(), self.lr)\n",
    "        #self.optimizer = torch.optim.SGD(self.model.parameters(), self.lr)\n",
    "\n",
    "        \n",
    "    def tokenize(self, parameters):\n",
    "        self.tokenized_dataset = self.dataset.map(self.tokenizer, input_columns='text', fn_kwargs = parameters)\n",
    "        for split in self.tokenized_dataset:\n",
    "                self.tokenized_dataset[split] = self.tokenized_dataset[split].add_column('labels',self.dataset[split]['labels'])\n",
    "                self.tokenized_dataset[split] = self.tokenized_dataset[split].remove_columns(['text'])\n",
    "        self.tokenized_dataset.set_format('torch')\n",
    "        \n",
    "        \n",
    "    def training(self, training_args):\n",
    "        trainer = Trainer( model = self.model, args = training_args, train_dataset = self.tokenized_dataset['train'],\n",
    "                      eval_dataset = self.tokenized_dataset['test'], compute_metrics = self.metrics)\n",
    "        trainer.train()\n",
    "\n",
    "    def predict(self, test_dataset):\n",
    "        trainer = Trainer(model = self.model, args = training_args, test_dataset = tokenized_test['test'], metrics = self.metrics)\n",
    "        \n",
    "\n",
    "        \n",
    "    def metrics(self, predictions):\n",
    "        # Calculating eval values: f1 score, accuracy, precision, recall\n",
    "        preds = predictions.predictions.argmax(axis = 1)\n",
    "        labels = predictions.label_ids\n",
    "        return {'f1': f1_score(preds, labels, average = 'binary'),\n",
    "                'accuracy':accuracy_score(preds, labels),\n",
    "                'precision_score': precision_score(preds, labels),\n",
    "                'recall_score': recall_score(preds, labels)}"
   ]
  },
  {
   "cell_type": "markdown",
   "id": "c2074ef3",
   "metadata": {},
   "source": [
    "Trying different loss functions: BCE loss Selected!"
   ]
  },
  {
   "cell_type": "code",
   "execution_count": 34,
   "id": "8bd33b12",
   "metadata": {},
   "outputs": [],
   "source": [
    "loss_func = torch.nn.BCELoss()\n",
    "# loss_func = torch.nn.L1Loss()\n",
    "# loss_func = torch.nn.MSELoss()\n",
    "# loss_func = torch.nn.CosineEmbeddingLoss()\n",
    "# loss_func = torch.nn.CrossEntropyLoss()\n",
    "# loss_func = torch.nn.KLDivLoss()\n",
    "# loss_func = torch.nn.BCEWithLogitsLoss()"
   ]
  },
  {
   "cell_type": "markdown",
   "id": "443f90fb",
   "metadata": {},
   "source": [
    "Defining the training arguments for the training (replace out path with a local path)"
   ]
  },
  {
   "cell_type": "code",
   "execution_count": 35,
   "id": "8e18fc75",
   "metadata": {},
   "outputs": [],
   "source": [
    "OUT_PATH = r\"D:/Users/ela86/Documents/\"\n",
    "args = TrainingArguments(output_dir = OUT_PATH,\n",
    "                         overwrite_output_dir = True,\n",
    "                         per_device_train_batch_size = 32,\n",
    "                         per_device_eval_batch_size = 32,\n",
    "                         learning_rate = 0.00001,\n",
    "                         weight_decay = 0.01,\n",
    "                         save_strategy = 'no',\n",
    "                         metric_for_best_model = 'dev_f1',\n",
    "                         greater_is_better = True,\n",
    "                         evaluation_strategy = 'epoch',\n",
    "                         do_train = True,\n",
    "                         num_train_epochs = 5,\n",
    "                         gradient_accumulation_steps = 5,\n",
    "                         fp16 = True,\n",
    "                         logging_strategy = 'epoch',\n",
    "                         report_to = 'none')"
   ]
  },
  {
   "cell_type": "markdown",
   "id": "203f50a0",
   "metadata": {},
   "source": [
    "## Defining Albert and Bert models "
   ]
  },
  {
   "cell_type": "markdown",
   "id": "e2c5f6e9",
   "metadata": {},
   "source": [
    "### Albert model: "
   ]
  },
  {
   "cell_type": "code",
   "execution_count": 36,
   "id": "1a11ce4a",
   "metadata": {},
   "outputs": [
    {
     "name": "stderr",
     "output_type": "stream",
     "text": [
      "Some weights of the model checkpoint at albert-base-v2 were not used when initializing AlbertForSequenceClassification: ['predictions.LayerNorm.weight', 'predictions.decoder.weight', 'predictions.dense.bias', 'predictions.dense.weight', 'predictions.decoder.bias', 'predictions.bias', 'predictions.LayerNorm.bias']\n",
      "- This IS expected if you are initializing AlbertForSequenceClassification from the checkpoint of a model trained on another task or with another architecture (e.g. initializing a BertForSequenceClassification model from a BertForPreTraining model).\n",
      "- This IS NOT expected if you are initializing AlbertForSequenceClassification from the checkpoint of a model that you expect to be exactly identical (initializing a BertForSequenceClassification model from a BertForSequenceClassification model).\n",
      "Some weights of AlbertForSequenceClassification were not initialized from the model checkpoint at albert-base-v2 and are newly initialized: ['classifier.weight', 'classifier.bias']\n",
      "You should probably TRAIN this model on a down-stream task to be able to use it for predictions and inference.\n"
     ]
    },
    {
     "data": {
      "application/vnd.jupyter.widget-view+json": {
       "model_id": "f669c95737eb413999254bee54313548",
       "version_major": 2,
       "version_minor": 0
      },
      "text/plain": [
       "  0%|          | 0/28125 [00:00<?, ?ex/s]"
      ]
     },
     "metadata": {},
     "output_type": "display_data"
    },
    {
     "data": {
      "application/vnd.jupyter.widget-view+json": {
       "model_id": "2ff02c533ec7400697f24135fd9ecb55",
       "version_major": 2,
       "version_minor": 0
      },
      "text/plain": [
       "  0%|          | 0/9375 [00:00<?, ?ex/s]"
      ]
     },
     "metadata": {},
     "output_type": "display_data"
    },
    {
     "data": {
      "text/plain": [
       "DatasetDict({\n",
       "    train: Dataset({\n",
       "        features: ['input_ids', 'token_type_ids', 'attention_mask', 'labels'],\n",
       "        num_rows: 28125\n",
       "    })\n",
       "    test: Dataset({\n",
       "        features: ['input_ids', 'token_type_ids', 'attention_mask', 'labels'],\n",
       "        num_rows: 9375\n",
       "    })\n",
       "})"
      ]
     },
     "execution_count": 36,
     "metadata": {},
     "output_type": "execute_result"
    }
   ],
   "source": [
    "warnings.filterwarnings('ignore')\n",
    "model_name = 'albert-base-v2'\n",
    "model_albert = Pre_trained_Model(model_name, 0.00001, loss_func, raw_datasets)\n",
    "model_albert.tokenize({\"max_length\": 200, \"truncation\": True, \"padding\": \"max_length\"})\n",
    "model_albert.tokenized_dataset"
   ]
  },
  {
   "cell_type": "code",
   "execution_count": 37,
   "id": "0c5a8481",
   "metadata": {
    "scrolled": false
   },
   "outputs": [
    {
     "name": "stderr",
     "output_type": "stream",
     "text": [
      "Using amp half precision backend\n",
      "***** Running training *****\n",
      "  Num examples = 28125\n",
      "  Num Epochs = 5\n",
      "  Instantaneous batch size per device = 32\n",
      "  Total train batch size (w. parallel, distributed & accumulation) = 160\n",
      "  Gradient Accumulation steps = 5\n",
      "  Total optimization steps = 875\n"
     ]
    },
    {
     "data": {
      "text/html": [
       "\n",
       "    <div>\n",
       "      \n",
       "      <progress value='875' max='875' style='width:300px; height:20px; vertical-align: middle;'></progress>\n",
       "      [875/875 16:57, Epoch 4/5]\n",
       "    </div>\n",
       "    <table border=\"1\" class=\"dataframe\">\n",
       "  <thead>\n",
       " <tr style=\"text-align: left;\">\n",
       "      <th>Epoch</th>\n",
       "      <th>Training Loss</th>\n",
       "      <th>Validation Loss</th>\n",
       "      <th>F1</th>\n",
       "      <th>Accuracy</th>\n",
       "      <th>Precision Score</th>\n",
       "      <th>Recall Score</th>\n",
       "    </tr>\n",
       "  </thead>\n",
       "  <tbody>\n",
       "    <tr>\n",
       "      <td>0</td>\n",
       "      <td>0.405900</td>\n",
       "      <td>0.318558</td>\n",
       "      <td>0.876556</td>\n",
       "      <td>0.870933</td>\n",
       "      <td>0.919127</td>\n",
       "      <td>0.837754</td>\n",
       "    </tr>\n",
       "    <tr>\n",
       "      <td>1</td>\n",
       "      <td>0.284400</td>\n",
       "      <td>0.287625</td>\n",
       "      <td>0.876988</td>\n",
       "      <td>0.878720</td>\n",
       "      <td>0.867137</td>\n",
       "      <td>0.887065</td>\n",
       "    </tr>\n",
       "    <tr>\n",
       "      <td>2</td>\n",
       "      <td>0.224500</td>\n",
       "      <td>0.303154</td>\n",
       "      <td>0.877010</td>\n",
       "      <td>0.879253</td>\n",
       "      <td>0.863500</td>\n",
       "      <td>0.890949</td>\n",
       "    </tr>\n",
       "    <tr>\n",
       "      <td>3</td>\n",
       "      <td>0.164100</td>\n",
       "      <td>0.327066</td>\n",
       "      <td>0.872798</td>\n",
       "      <td>0.873707</td>\n",
       "      <td>0.869063</td>\n",
       "      <td>0.876565</td>\n",
       "    </tr>\n",
       "    <tr>\n",
       "      <td>4</td>\n",
       "      <td>0.116100</td>\n",
       "      <td>0.357234</td>\n",
       "      <td>0.865624</td>\n",
       "      <td>0.865280</td>\n",
       "      <td>0.870347</td>\n",
       "      <td>0.860952</td>\n",
       "    </tr>\n",
       "  </tbody>\n",
       "</table><p>"
      ],
      "text/plain": [
       "<IPython.core.display.HTML object>"
      ]
     },
     "metadata": {},
     "output_type": "display_data"
    },
    {
     "name": "stderr",
     "output_type": "stream",
     "text": [
      "***** Running Evaluation *****\n",
      "  Num examples = 9375\n",
      "  Batch size = 32\n",
      "***** Running Evaluation *****\n",
      "  Num examples = 9375\n",
      "  Batch size = 32\n",
      "***** Running Evaluation *****\n",
      "  Num examples = 9375\n",
      "  Batch size = 32\n",
      "***** Running Evaluation *****\n",
      "  Num examples = 9375\n",
      "  Batch size = 32\n",
      "***** Running Evaluation *****\n",
      "  Num examples = 9375\n",
      "  Batch size = 32\n",
      "\n",
      "\n",
      "Training completed. Do not forget to share your model on huggingface.co/models =)\n",
      "\n",
      "\n"
     ]
    }
   ],
   "source": [
    "warnings.filterwarnings('ignore')\n",
    "model_albert.training(args)"
   ]
  },
  {
   "cell_type": "markdown",
   "id": "e7f0079e",
   "metadata": {},
   "source": [
    "### Bert model: "
   ]
  },
  {
   "cell_type": "code",
   "execution_count": 38,
   "id": "a0274f81",
   "metadata": {},
   "outputs": [
    {
     "name": "stderr",
     "output_type": "stream",
     "text": [
      "loading configuration file https://huggingface.co/distilbert-base-uncased/resolve/main/config.json from cache at C:\\Users\\user/.cache\\huggingface\\transformers\\23454919702d26495337f3da04d1655c7ee010d5ec9d77bdb9e399e00302c0a1.91b885ab15d631bf9cee9dc9d25ece0afd932f2f5130eba28f2055b2220c0333\n",
      "Model config DistilBertConfig {\n",
      "  \"_name_or_path\": \"distilbert-base-uncased\",\n",
      "  \"activation\": \"gelu\",\n",
      "  \"architectures\": [\n",
      "    \"DistilBertForMaskedLM\"\n",
      "  ],\n",
      "  \"attention_dropout\": 0.1,\n",
      "  \"dim\": 768,\n",
      "  \"dropout\": 0.1,\n",
      "  \"hidden_dim\": 3072,\n",
      "  \"initializer_range\": 0.02,\n",
      "  \"max_position_embeddings\": 512,\n",
      "  \"model_type\": \"distilbert\",\n",
      "  \"n_heads\": 12,\n",
      "  \"n_layers\": 6,\n",
      "  \"pad_token_id\": 0,\n",
      "  \"qa_dropout\": 0.1,\n",
      "  \"seq_classif_dropout\": 0.2,\n",
      "  \"sinusoidal_pos_embds\": false,\n",
      "  \"tie_weights_\": true,\n",
      "  \"transformers_version\": \"4.19.2\",\n",
      "  \"vocab_size\": 30522\n",
      "}\n",
      "\n",
      "loading weights file https://huggingface.co/distilbert-base-uncased/resolve/main/pytorch_model.bin from cache at C:\\Users\\user/.cache\\huggingface\\transformers\\9c169103d7e5a73936dd2b627e42851bec0831212b677c637033ee4bce9ab5ee.126183e36667471617ae2f0835fab707baa54b731f991507ebbb55ea85adb12a\n",
      "Some weights of the model checkpoint at distilbert-base-uncased were not used when initializing DistilBertForSequenceClassification: ['vocab_transform.bias', 'vocab_layer_norm.weight', 'vocab_transform.weight', 'vocab_layer_norm.bias', 'vocab_projector.bias', 'vocab_projector.weight']\n",
      "- This IS expected if you are initializing DistilBertForSequenceClassification from the checkpoint of a model trained on another task or with another architecture (e.g. initializing a BertForSequenceClassification model from a BertForPreTraining model).\n",
      "- This IS NOT expected if you are initializing DistilBertForSequenceClassification from the checkpoint of a model that you expect to be exactly identical (initializing a BertForSequenceClassification model from a BertForSequenceClassification model).\n",
      "Some weights of DistilBertForSequenceClassification were not initialized from the model checkpoint at distilbert-base-uncased and are newly initialized: ['classifier.weight', 'classifier.bias', 'pre_classifier.weight', 'pre_classifier.bias']\n",
      "You should probably TRAIN this model on a down-stream task to be able to use it for predictions and inference.\n",
      "loading configuration file https://huggingface.co/distilbert-base-uncased/resolve/main/config.json from cache at C:\\Users\\user/.cache\\huggingface\\transformers\\23454919702d26495337f3da04d1655c7ee010d5ec9d77bdb9e399e00302c0a1.91b885ab15d631bf9cee9dc9d25ece0afd932f2f5130eba28f2055b2220c0333\n",
      "Model config DistilBertConfig {\n",
      "  \"_name_or_path\": \"distilbert-base-uncased\",\n",
      "  \"activation\": \"gelu\",\n",
      "  \"architectures\": [\n",
      "    \"DistilBertForMaskedLM\"\n",
      "  ],\n",
      "  \"attention_dropout\": 0.1,\n",
      "  \"dim\": 768,\n",
      "  \"dropout\": 0.1,\n",
      "  \"hidden_dim\": 3072,\n",
      "  \"initializer_range\": 0.02,\n",
      "  \"max_position_embeddings\": 512,\n",
      "  \"model_type\": \"distilbert\",\n",
      "  \"n_heads\": 12,\n",
      "  \"n_layers\": 6,\n",
      "  \"pad_token_id\": 0,\n",
      "  \"qa_dropout\": 0.1,\n",
      "  \"seq_classif_dropout\": 0.2,\n",
      "  \"sinusoidal_pos_embds\": false,\n",
      "  \"tie_weights_\": true,\n",
      "  \"transformers_version\": \"4.19.2\",\n",
      "  \"vocab_size\": 30522\n",
      "}\n",
      "\n",
      "loading file https://huggingface.co/distilbert-base-uncased/resolve/main/vocab.txt from cache at C:\\Users\\user/.cache\\huggingface\\transformers\\0e1bbfda7f63a99bb52e3915dcf10c3c92122b827d92eb2d34ce94ee79ba486c.d789d64ebfe299b0e416afc4a169632f903f693095b4629a7ea271d5a0cf2c99\n",
      "loading file https://huggingface.co/distilbert-base-uncased/resolve/main/tokenizer.json from cache at C:\\Users\\user/.cache\\huggingface\\transformers\\75abb59d7a06f4f640158a9bfcde005264e59e8d566781ab1415b139d2e4c603.7f2721073f19841be16f41b0a70b600ca6b880c8f3df6f3535cbc704371bdfa4\n",
      "loading file https://huggingface.co/distilbert-base-uncased/resolve/main/added_tokens.json from cache at None\n",
      "loading file https://huggingface.co/distilbert-base-uncased/resolve/main/special_tokens_map.json from cache at None\n",
      "loading file https://huggingface.co/distilbert-base-uncased/resolve/main/tokenizer_config.json from cache at C:\\Users\\user/.cache\\huggingface\\transformers\\8c8624b8ac8aa99c60c912161f8332de003484428c47906d7ff7eb7f73eecdbb.20430bd8e10ef77a7d2977accefe796051e01bc2fc4aa146bc862997a1a15e79\n",
      "loading configuration file https://huggingface.co/distilbert-base-uncased/resolve/main/config.json from cache at C:\\Users\\user/.cache\\huggingface\\transformers\\23454919702d26495337f3da04d1655c7ee010d5ec9d77bdb9e399e00302c0a1.91b885ab15d631bf9cee9dc9d25ece0afd932f2f5130eba28f2055b2220c0333\n",
      "Model config DistilBertConfig {\n",
      "  \"_name_or_path\": \"distilbert-base-uncased\",\n",
      "  \"activation\": \"gelu\",\n",
      "  \"architectures\": [\n",
      "    \"DistilBertForMaskedLM\"\n",
      "  ],\n",
      "  \"attention_dropout\": 0.1,\n",
      "  \"dim\": 768,\n",
      "  \"dropout\": 0.1,\n",
      "  \"hidden_dim\": 3072,\n",
      "  \"initializer_range\": 0.02,\n",
      "  \"max_position_embeddings\": 512,\n",
      "  \"model_type\": \"distilbert\",\n",
      "  \"n_heads\": 12,\n",
      "  \"n_layers\": 6,\n",
      "  \"pad_token_id\": 0,\n",
      "  \"qa_dropout\": 0.1,\n",
      "  \"seq_classif_dropout\": 0.2,\n",
      "  \"sinusoidal_pos_embds\": false,\n",
      "  \"tie_weights_\": true,\n",
      "  \"transformers_version\": \"4.19.2\",\n",
      "  \"vocab_size\": 30522\n",
      "}\n",
      "\n"
     ]
    },
    {
     "data": {
      "application/vnd.jupyter.widget-view+json": {
       "model_id": "75ac5e3ecc144be4badaf22f69a0fee3",
       "version_major": 2,
       "version_minor": 0
      },
      "text/plain": [
       "  0%|          | 0/28125 [00:00<?, ?ex/s]"
      ]
     },
     "metadata": {},
     "output_type": "display_data"
    },
    {
     "data": {
      "application/vnd.jupyter.widget-view+json": {
       "model_id": "b8d7baa8198143a4928a94802be83bc1",
       "version_major": 2,
       "version_minor": 0
      },
      "text/plain": [
       "  0%|          | 0/9375 [00:00<?, ?ex/s]"
      ]
     },
     "metadata": {},
     "output_type": "display_data"
    },
    {
     "data": {
      "text/plain": [
       "DatasetDict({\n",
       "    train: Dataset({\n",
       "        features: ['input_ids', 'attention_mask', 'labels'],\n",
       "        num_rows: 28125\n",
       "    })\n",
       "    test: Dataset({\n",
       "        features: ['input_ids', 'attention_mask', 'labels'],\n",
       "        num_rows: 9375\n",
       "    })\n",
       "})"
      ]
     },
     "execution_count": 38,
     "metadata": {},
     "output_type": "execute_result"
    }
   ],
   "source": [
    "warnings.filterwarnings('ignore')\n",
    "model_name2 = \"distilbert-base-uncased\"\n",
    "model_bert = Pre_trained_Model(model_name2, 0.001, loss_func, raw_datasets)\n",
    "model_bert.tokenize({\"max_length\": 200, \"truncation\": True, \"padding\": \"max_length\"})\n",
    "model_bert.tokenized_dataset"
   ]
  },
  {
   "cell_type": "code",
   "execution_count": 39,
   "id": "aca61f1a",
   "metadata": {},
   "outputs": [
    {
     "name": "stderr",
     "output_type": "stream",
     "text": [
      "Using amp half precision backend\n",
      "***** Running training *****\n",
      "  Num examples = 28125\n",
      "  Num Epochs = 5\n",
      "  Instantaneous batch size per device = 32\n",
      "  Total train batch size (w. parallel, distributed & accumulation) = 160\n",
      "  Gradient Accumulation steps = 5\n",
      "  Total optimization steps = 875\n"
     ]
    },
    {
     "data": {
      "text/html": [
       "\n",
       "    <div>\n",
       "      \n",
       "      <progress value='875' max='875' style='width:300px; height:20px; vertical-align: middle;'></progress>\n",
       "      [875/875 06:40, Epoch 4/5]\n",
       "    </div>\n",
       "    <table border=\"1\" class=\"dataframe\">\n",
       "  <thead>\n",
       " <tr style=\"text-align: left;\">\n",
       "      <th>Epoch</th>\n",
       "      <th>Training Loss</th>\n",
       "      <th>Validation Loss</th>\n",
       "      <th>F1</th>\n",
       "      <th>Accuracy</th>\n",
       "      <th>Precision Score</th>\n",
       "      <th>Recall Score</th>\n",
       "    </tr>\n",
       "  </thead>\n",
       "  <tbody>\n",
       "    <tr>\n",
       "      <td>0</td>\n",
       "      <td>0.438500</td>\n",
       "      <td>0.333266</td>\n",
       "      <td>0.864587</td>\n",
       "      <td>0.859733</td>\n",
       "      <td>0.898160</td>\n",
       "      <td>0.833433</td>\n",
       "    </tr>\n",
       "    <tr>\n",
       "      <td>1</td>\n",
       "      <td>0.309000</td>\n",
       "      <td>0.319619</td>\n",
       "      <td>0.855982</td>\n",
       "      <td>0.863893</td>\n",
       "      <td>0.811297</td>\n",
       "      <td>0.905877</td>\n",
       "    </tr>\n",
       "    <tr>\n",
       "      <td>2</td>\n",
       "      <td>0.272700</td>\n",
       "      <td>0.299958</td>\n",
       "      <td>0.878670</td>\n",
       "      <td>0.877013</td>\n",
       "      <td>0.893239</td>\n",
       "      <td>0.864568</td>\n",
       "    </tr>\n",
       "    <tr>\n",
       "      <td>3</td>\n",
       "      <td>0.244400</td>\n",
       "      <td>0.293364</td>\n",
       "      <td>0.878244</td>\n",
       "      <td>0.879893</td>\n",
       "      <td>0.868849</td>\n",
       "      <td>0.887844</td>\n",
       "    </tr>\n",
       "    <tr>\n",
       "      <td>4</td>\n",
       "      <td>0.230300</td>\n",
       "      <td>0.294145</td>\n",
       "      <td>0.880919</td>\n",
       "      <td>0.881707</td>\n",
       "      <td>0.877621</td>\n",
       "      <td>0.884242</td>\n",
       "    </tr>\n",
       "  </tbody>\n",
       "</table><p>"
      ],
      "text/plain": [
       "<IPython.core.display.HTML object>"
      ]
     },
     "metadata": {},
     "output_type": "display_data"
    },
    {
     "name": "stderr",
     "output_type": "stream",
     "text": [
      "***** Running Evaluation *****\n",
      "  Num examples = 9375\n",
      "  Batch size = 32\n",
      "***** Running Evaluation *****\n",
      "  Num examples = 9375\n",
      "  Batch size = 32\n",
      "***** Running Evaluation *****\n",
      "  Num examples = 9375\n",
      "  Batch size = 32\n",
      "***** Running Evaluation *****\n",
      "  Num examples = 9375\n",
      "  Batch size = 32\n",
      "***** Running Evaluation *****\n",
      "  Num examples = 9375\n",
      "  Batch size = 32\n",
      "\n",
      "\n",
      "Training completed. Do not forget to share your model on huggingface.co/models =)\n",
      "\n",
      "\n"
     ]
    }
   ],
   "source": [
    "warnings.filterwarnings('ignore')\n",
    "model_bert.training(args)"
   ]
  },
  {
   "cell_type": "code",
   "execution_count": 40,
   "id": "439fc211",
   "metadata": {},
   "outputs": [
    {
     "name": "stdout",
     "output_type": "stream",
     "text": [
      "|===========================================================================|\n",
      "|                  PyTorch CUDA memory summary, device ID 0                 |\n",
      "|---------------------------------------------------------------------------|\n",
      "|            CUDA OOMs: 0            |        cudaMalloc retries: 0         |\n",
      "|===========================================================================|\n",
      "|        Metric         | Cur Usage  | Peak Usage | Tot Alloc  | Tot Freed  |\n",
      "|---------------------------------------------------------------------------|\n",
      "| Allocated memory      |  625258 KB |    7182 MB |  212112 GB |  212111 GB |\n",
      "|       from large pool |  623360 KB |    7177 MB |  212055 GB |  212054 GB |\n",
      "|       from small pool |    1898 KB |       4 MB |      57 GB |      57 GB |\n",
      "|---------------------------------------------------------------------------|\n",
      "| Active memory         |  625258 KB |    7182 MB |  212112 GB |  212111 GB |\n",
      "|       from large pool |  623360 KB |    7177 MB |  212055 GB |  212054 GB |\n",
      "|       from small pool |    1898 KB |       4 MB |      57 GB |      57 GB |\n",
      "|---------------------------------------------------------------------------|\n",
      "| GPU reserved memory   |    7872 MB |    7872 MB |    7872 MB |       0 B  |\n",
      "|       from large pool |    7866 MB |    7866 MB |    7866 MB |       0 B  |\n",
      "|       from small pool |       6 MB |       6 MB |       6 MB |       0 B  |\n",
      "|---------------------------------------------------------------------------|\n",
      "| Non-releasable memory |  464278 KB |     851 MB |   74374 GB |   74374 GB |\n",
      "|       from large pool |  462080 KB |     849 MB |   74292 GB |   74292 GB |\n",
      "|       from small pool |    2198 KB |       2 MB |      82 GB |      82 GB |\n",
      "|---------------------------------------------------------------------------|\n",
      "| Allocations           |     265    |     702    |   12647 K  |   12647 K  |\n",
      "|       from large pool |      94    |     317    |    8455 K  |    8455 K  |\n",
      "|       from small pool |     171    |     411    |    4192 K  |    4192 K  |\n",
      "|---------------------------------------------------------------------------|\n",
      "| Active allocs         |     265    |     702    |   12647 K  |   12647 K  |\n",
      "|       from large pool |      94    |     317    |    8455 K  |    8455 K  |\n",
      "|       from small pool |     171    |     411    |    4192 K  |    4192 K  |\n",
      "|---------------------------------------------------------------------------|\n",
      "| GPU reserved segments |     154    |     154    |     154    |       0    |\n",
      "|       from large pool |     151    |     151    |     151    |       0    |\n",
      "|       from small pool |       3    |       3    |       3    |       0    |\n",
      "|---------------------------------------------------------------------------|\n",
      "| Non-releasable allocs |      59    |     144    |    6768 K  |    6768 K  |\n",
      "|       from large pool |      39    |     134    |    4773 K  |    4773 K  |\n",
      "|       from small pool |      20    |      32    |    1994 K  |    1994 K  |\n",
      "|---------------------------------------------------------------------------|\n",
      "| Oversize allocations  |       0    |       0    |       0    |       0    |\n",
      "|---------------------------------------------------------------------------|\n",
      "| Oversize GPU segments |       0    |       0    |       0    |       0    |\n",
      "|===========================================================================|\n",
      "\n"
     ]
    }
   ],
   "source": [
    "print(torch.cuda.memory_summary(abbreviated=False))"
   ]
  },
  {
   "cell_type": "markdown",
   "id": "c966ffff",
   "metadata": {},
   "source": [
    "# Compression "
   ]
  },
  {
   "cell_type": "code",
   "execution_count": 41,
   "id": "5713020b",
   "metadata": {},
   "outputs": [],
   "source": [
    "def print_size_of_model(model): # Checking the size of the model.\n",
    "    torch.save(model.state_dict(), \"temp.p\")\n",
    "    print('Size (MB):', os.path.getsize(\"temp.p\")/1e6)\n",
    "    os.remove('temp.p')"
   ]
  },
  {
   "cell_type": "markdown",
   "id": "0c2d1d28",
   "metadata": {},
   "source": [
    "## 1) Prune - Albert model "
   ]
  },
  {
   "cell_type": "code",
   "execution_count": 49,
   "id": "fe3b76a3",
   "metadata": {},
   "outputs": [],
   "source": [
    "model_seq_classification = model_albert.model"
   ]
  },
  {
   "cell_type": "code",
   "execution_count": 50,
   "id": "11fba2ab",
   "metadata": {},
   "outputs": [
    {
     "name": "stdout",
     "output_type": "stream",
     "text": [
      "Size (MB): 46.755601\n"
     ]
    }
   ],
   "source": [
    "print_size_of_model(model_seq_classification)"
   ]
  },
  {
   "cell_type": "code",
   "execution_count": 51,
   "id": "e2953886",
   "metadata": {},
   "outputs": [],
   "source": [
    "def prune(model, amount1, amount2): # The pruning function, pruning the layers of the model.\n",
    "    for name, module in model_seq_classification.named_parameters():\n",
    "        if isinstance(module, torch.nn.Conv2d):\n",
    "            prune.l1_unstructured(module, name = 'weight', amount = amount1)\n",
    "        # prune 40% of connections in all linear layers\n",
    "        elif isinstance(module, torch.nn.Linear):\n",
    "            prune.l1_unstructured(module, name = 'weight', amount = amount2)"
   ]
  },
  {
   "cell_type": "markdown",
   "id": "07b7b2d8",
   "metadata": {},
   "source": [
    "### first pruning: "
   ]
  },
  {
   "cell_type": "code",
   "execution_count": 52,
   "id": "6745f85c",
   "metadata": {},
   "outputs": [],
   "source": [
    "prune(model_seq_classification, 0.35, 0.45)"
   ]
  },
  {
   "cell_type": "code",
   "execution_count": 53,
   "id": "9ae4e14d",
   "metadata": {},
   "outputs": [
    {
     "name": "stdout",
     "output_type": "stream",
     "text": [
      "Size (MB): 46.755601\n"
     ]
    }
   ],
   "source": [
    "print_size_of_model(model_seq_classification)"
   ]
  },
  {
   "cell_type": "code",
   "execution_count": 55,
   "id": "1a295fb8",
   "metadata": {},
   "outputs": [
    {
     "name": "stderr",
     "output_type": "stream",
     "text": [
      "Using amp half precision backend\n",
      "***** Running training *****\n",
      "  Num examples = 28125\n",
      "  Num Epochs = 5\n",
      "  Instantaneous batch size per device = 32\n",
      "  Total train batch size (w. parallel, distributed & accumulation) = 160\n",
      "  Gradient Accumulation steps = 5\n",
      "  Total optimization steps = 875\n"
     ]
    },
    {
     "data": {
      "text/html": [
       "\n",
       "    <div>\n",
       "      \n",
       "      <progress value='875' max='875' style='width:300px; height:20px; vertical-align: middle;'></progress>\n",
       "      [875/875 16:56, Epoch 4/5]\n",
       "    </div>\n",
       "    <table border=\"1\" class=\"dataframe\">\n",
       "  <thead>\n",
       " <tr style=\"text-align: left;\">\n",
       "      <th>Epoch</th>\n",
       "      <th>Training Loss</th>\n",
       "      <th>Validation Loss</th>\n",
       "      <th>F1</th>\n",
       "      <th>Accuracy</th>\n",
       "      <th>Precision Score</th>\n",
       "      <th>Recall Score</th>\n",
       "    </tr>\n",
       "  </thead>\n",
       "  <tbody>\n",
       "    <tr>\n",
       "      <td>0</td>\n",
       "      <td>0.151700</td>\n",
       "      <td>0.366621</td>\n",
       "      <td>0.869556</td>\n",
       "      <td>0.864213</td>\n",
       "      <td>0.907788</td>\n",
       "      <td>0.834415</td>\n",
       "    </tr>\n",
       "    <tr>\n",
       "      <td>1</td>\n",
       "      <td>0.101700</td>\n",
       "      <td>0.431186</td>\n",
       "      <td>0.854958</td>\n",
       "      <td>0.858347</td>\n",
       "      <td>0.837398</td>\n",
       "      <td>0.873271</td>\n",
       "    </tr>\n",
       "    <tr>\n",
       "      <td>2</td>\n",
       "      <td>0.069600</td>\n",
       "      <td>0.464223</td>\n",
       "      <td>0.868399</td>\n",
       "      <td>0.866027</td>\n",
       "      <td>0.886607</td>\n",
       "      <td>0.850924</td>\n",
       "    </tr>\n",
       "    <tr>\n",
       "      <td>3</td>\n",
       "      <td>0.047600</td>\n",
       "      <td>0.511997</td>\n",
       "      <td>0.863805</td>\n",
       "      <td>0.862933</td>\n",
       "      <td>0.871844</td>\n",
       "      <td>0.855913</td>\n",
       "    </tr>\n",
       "    <tr>\n",
       "      <td>4</td>\n",
       "      <td>0.035100</td>\n",
       "      <td>0.563145</td>\n",
       "      <td>0.859007</td>\n",
       "      <td>0.859413</td>\n",
       "      <td>0.859007</td>\n",
       "      <td>0.859007</td>\n",
       "    </tr>\n",
       "  </tbody>\n",
       "</table><p>"
      ],
      "text/plain": [
       "<IPython.core.display.HTML object>"
      ]
     },
     "metadata": {},
     "output_type": "display_data"
    },
    {
     "name": "stderr",
     "output_type": "stream",
     "text": [
      "***** Running Evaluation *****\n",
      "  Num examples = 9375\n",
      "  Batch size = 32\n",
      "***** Running Evaluation *****\n",
      "  Num examples = 9375\n",
      "  Batch size = 32\n",
      "***** Running Evaluation *****\n",
      "  Num examples = 9375\n",
      "  Batch size = 32\n",
      "***** Running Evaluation *****\n",
      "  Num examples = 9375\n",
      "  Batch size = 32\n",
      "***** Running Evaluation *****\n",
      "  Num examples = 9375\n",
      "  Batch size = 32\n",
      "\n",
      "\n",
      "Training completed. Do not forget to share your model on huggingface.co/models =)\n",
      "\n",
      "\n"
     ]
    }
   ],
   "source": [
    "# Training after first pruning:\n",
    "model_albert.training(args)"
   ]
  },
  {
   "cell_type": "markdown",
   "id": "8abd52ac",
   "metadata": {},
   "source": [
    "### second pruning: "
   ]
  },
  {
   "cell_type": "code",
   "execution_count": 57,
   "id": "0557beae",
   "metadata": {},
   "outputs": [],
   "source": [
    "prune(model_seq_classification, 0.35, 0.45)"
   ]
  },
  {
   "cell_type": "code",
   "execution_count": 58,
   "id": "241bcf4a",
   "metadata": {},
   "outputs": [
    {
     "name": "stdout",
     "output_type": "stream",
     "text": [
      "Size (MB): 46.755601\n"
     ]
    }
   ],
   "source": [
    "print_size_of_model(model_seq_classification)"
   ]
  },
  {
   "cell_type": "code",
   "execution_count": 62,
   "id": "f9bdc5a5",
   "metadata": {},
   "outputs": [
    {
     "name": "stderr",
     "output_type": "stream",
     "text": [
      "Using amp half precision backend\n",
      "***** Running training *****\n",
      "  Num examples = 28125\n",
      "  Num Epochs = 5\n",
      "  Instantaneous batch size per device = 32\n",
      "  Total train batch size (w. parallel, distributed & accumulation) = 160\n",
      "  Gradient Accumulation steps = 5\n",
      "  Total optimization steps = 875\n"
     ]
    },
    {
     "data": {
      "text/html": [
       "\n",
       "    <div>\n",
       "      \n",
       "      <progress value='875' max='875' style='width:300px; height:20px; vertical-align: middle;'></progress>\n",
       "      [875/875 17:00, Epoch 4/5]\n",
       "    </div>\n",
       "    <table border=\"1\" class=\"dataframe\">\n",
       "  <thead>\n",
       " <tr style=\"text-align: left;\">\n",
       "      <th>Epoch</th>\n",
       "      <th>Training Loss</th>\n",
       "      <th>Validation Loss</th>\n",
       "      <th>F1</th>\n",
       "      <th>Accuracy</th>\n",
       "      <th>Precision Score</th>\n",
       "      <th>Recall Score</th>\n",
       "    </tr>\n",
       "  </thead>\n",
       "  <tbody>\n",
       "    <tr>\n",
       "      <td>0</td>\n",
       "      <td>0.072200</td>\n",
       "      <td>0.474268</td>\n",
       "      <td>0.869896</td>\n",
       "      <td>0.868480</td>\n",
       "      <td>0.881900</td>\n",
       "      <td>0.858214</td>\n",
       "    </tr>\n",
       "    <tr>\n",
       "      <td>1</td>\n",
       "      <td>0.055200</td>\n",
       "      <td>0.551341</td>\n",
       "      <td>0.858027</td>\n",
       "      <td>0.863040</td>\n",
       "      <td>0.830124</td>\n",
       "      <td>0.887872</td>\n",
       "    </tr>\n",
       "    <tr>\n",
       "      <td>2</td>\n",
       "      <td>0.035100</td>\n",
       "      <td>0.609081</td>\n",
       "      <td>0.862025</td>\n",
       "      <td>0.860480</td>\n",
       "      <td>0.874198</td>\n",
       "      <td>0.850187</td>\n",
       "    </tr>\n",
       "    <tr>\n",
       "      <td>3</td>\n",
       "      <td>0.023000</td>\n",
       "      <td>0.673225</td>\n",
       "      <td>0.859714</td>\n",
       "      <td>0.858667</td>\n",
       "      <td>0.868635</td>\n",
       "      <td>0.850975</td>\n",
       "    </tr>\n",
       "    <tr>\n",
       "      <td>4</td>\n",
       "      <td>0.014500</td>\n",
       "      <td>0.715280</td>\n",
       "      <td>0.860346</td>\n",
       "      <td>0.860480</td>\n",
       "      <td>0.862003</td>\n",
       "      <td>0.858696</td>\n",
       "    </tr>\n",
       "  </tbody>\n",
       "</table><p>"
      ],
      "text/plain": [
       "<IPython.core.display.HTML object>"
      ]
     },
     "metadata": {},
     "output_type": "display_data"
    },
    {
     "name": "stderr",
     "output_type": "stream",
     "text": [
      "***** Running Evaluation *****\n",
      "  Num examples = 9375\n",
      "  Batch size = 32\n",
      "***** Running Evaluation *****\n",
      "  Num examples = 9375\n",
      "  Batch size = 32\n",
      "***** Running Evaluation *****\n",
      "  Num examples = 9375\n",
      "  Batch size = 32\n",
      "***** Running Evaluation *****\n",
      "  Num examples = 9375\n",
      "  Batch size = 32\n",
      "***** Running Evaluation *****\n",
      "  Num examples = 9375\n",
      "  Batch size = 32\n",
      "\n",
      "\n",
      "Training completed. Do not forget to share your model on huggingface.co/models =)\n",
      "\n",
      "\n"
     ]
    }
   ],
   "source": [
    "# Training after second pruning:\n",
    "model_albert.training(args)"
   ]
  },
  {
   "cell_type": "markdown",
   "id": "376a67db",
   "metadata": {},
   "source": [
    "## Prediction - Albert: "
   ]
  },
  {
   "cell_type": "code",
   "execution_count": null,
   "id": "fac40ea4",
   "metadata": {},
   "outputs": [],
   "source": []
  },
  {
   "cell_type": "markdown",
   "id": "2987a25f",
   "metadata": {},
   "source": [
    "## 2) Quantization - Bert model"
   ]
  },
  {
   "cell_type": "code",
   "execution_count": 43,
   "id": "00c11479",
   "metadata": {},
   "outputs": [],
   "source": [
    "model_seq_classification = model_bert.model"
   ]
  },
  {
   "cell_type": "code",
   "execution_count": 44,
   "id": "bfa0fddc",
   "metadata": {},
   "outputs": [
    {
     "name": "stdout",
     "output_type": "stream",
     "text": [
      "Size (MB): 267.860529\n"
     ]
    }
   ],
   "source": [
    "print_size_of_model(model_seq_classification)"
   ]
  },
  {
   "cell_type": "code",
   "execution_count": 45,
   "id": "40f0c884",
   "metadata": {},
   "outputs": [
    {
     "data": {
      "text/plain": [
       "DistilBertForSequenceClassification(\n",
       "  (distilbert): DistilBertModel(\n",
       "    (embeddings): Embeddings(\n",
       "      (word_embeddings): Embedding(30522, 768, padding_idx=0)\n",
       "      (position_embeddings): Embedding(512, 768)\n",
       "      (LayerNorm): LayerNorm((768,), eps=1e-12, elementwise_affine=True)\n",
       "      (dropout): Dropout(p=0.1, inplace=False)\n",
       "    )\n",
       "    (transformer): Transformer(\n",
       "      (layer): ModuleList(\n",
       "        (0): TransformerBlock(\n",
       "          (attention): MultiHeadSelfAttention(\n",
       "            (dropout): Dropout(p=0.1, inplace=False)\n",
       "            (q_lin): DynamicQuantizedLinear(in_features=768, out_features=768, dtype=torch.qint8, qscheme=torch.per_tensor_affine)\n",
       "            (k_lin): DynamicQuantizedLinear(in_features=768, out_features=768, dtype=torch.qint8, qscheme=torch.per_tensor_affine)\n",
       "            (v_lin): DynamicQuantizedLinear(in_features=768, out_features=768, dtype=torch.qint8, qscheme=torch.per_tensor_affine)\n",
       "            (out_lin): DynamicQuantizedLinear(in_features=768, out_features=768, dtype=torch.qint8, qscheme=torch.per_tensor_affine)\n",
       "          )\n",
       "          (sa_layer_norm): LayerNorm((768,), eps=1e-12, elementwise_affine=True)\n",
       "          (ffn): FFN(\n",
       "            (dropout): Dropout(p=0.1, inplace=False)\n",
       "            (lin1): DynamicQuantizedLinear(in_features=768, out_features=3072, dtype=torch.qint8, qscheme=torch.per_tensor_affine)\n",
       "            (lin2): DynamicQuantizedLinear(in_features=3072, out_features=768, dtype=torch.qint8, qscheme=torch.per_tensor_affine)\n",
       "            (activation): GELUActivation()\n",
       "          )\n",
       "          (output_layer_norm): LayerNorm((768,), eps=1e-12, elementwise_affine=True)\n",
       "        )\n",
       "        (1): TransformerBlock(\n",
       "          (attention): MultiHeadSelfAttention(\n",
       "            (dropout): Dropout(p=0.1, inplace=False)\n",
       "            (q_lin): DynamicQuantizedLinear(in_features=768, out_features=768, dtype=torch.qint8, qscheme=torch.per_tensor_affine)\n",
       "            (k_lin): DynamicQuantizedLinear(in_features=768, out_features=768, dtype=torch.qint8, qscheme=torch.per_tensor_affine)\n",
       "            (v_lin): DynamicQuantizedLinear(in_features=768, out_features=768, dtype=torch.qint8, qscheme=torch.per_tensor_affine)\n",
       "            (out_lin): DynamicQuantizedLinear(in_features=768, out_features=768, dtype=torch.qint8, qscheme=torch.per_tensor_affine)\n",
       "          )\n",
       "          (sa_layer_norm): LayerNorm((768,), eps=1e-12, elementwise_affine=True)\n",
       "          (ffn): FFN(\n",
       "            (dropout): Dropout(p=0.1, inplace=False)\n",
       "            (lin1): DynamicQuantizedLinear(in_features=768, out_features=3072, dtype=torch.qint8, qscheme=torch.per_tensor_affine)\n",
       "            (lin2): DynamicQuantizedLinear(in_features=3072, out_features=768, dtype=torch.qint8, qscheme=torch.per_tensor_affine)\n",
       "            (activation): GELUActivation()\n",
       "          )\n",
       "          (output_layer_norm): LayerNorm((768,), eps=1e-12, elementwise_affine=True)\n",
       "        )\n",
       "        (2): TransformerBlock(\n",
       "          (attention): MultiHeadSelfAttention(\n",
       "            (dropout): Dropout(p=0.1, inplace=False)\n",
       "            (q_lin): DynamicQuantizedLinear(in_features=768, out_features=768, dtype=torch.qint8, qscheme=torch.per_tensor_affine)\n",
       "            (k_lin): DynamicQuantizedLinear(in_features=768, out_features=768, dtype=torch.qint8, qscheme=torch.per_tensor_affine)\n",
       "            (v_lin): DynamicQuantizedLinear(in_features=768, out_features=768, dtype=torch.qint8, qscheme=torch.per_tensor_affine)\n",
       "            (out_lin): DynamicQuantizedLinear(in_features=768, out_features=768, dtype=torch.qint8, qscheme=torch.per_tensor_affine)\n",
       "          )\n",
       "          (sa_layer_norm): LayerNorm((768,), eps=1e-12, elementwise_affine=True)\n",
       "          (ffn): FFN(\n",
       "            (dropout): Dropout(p=0.1, inplace=False)\n",
       "            (lin1): DynamicQuantizedLinear(in_features=768, out_features=3072, dtype=torch.qint8, qscheme=torch.per_tensor_affine)\n",
       "            (lin2): DynamicQuantizedLinear(in_features=3072, out_features=768, dtype=torch.qint8, qscheme=torch.per_tensor_affine)\n",
       "            (activation): GELUActivation()\n",
       "          )\n",
       "          (output_layer_norm): LayerNorm((768,), eps=1e-12, elementwise_affine=True)\n",
       "        )\n",
       "        (3): TransformerBlock(\n",
       "          (attention): MultiHeadSelfAttention(\n",
       "            (dropout): Dropout(p=0.1, inplace=False)\n",
       "            (q_lin): DynamicQuantizedLinear(in_features=768, out_features=768, dtype=torch.qint8, qscheme=torch.per_tensor_affine)\n",
       "            (k_lin): DynamicQuantizedLinear(in_features=768, out_features=768, dtype=torch.qint8, qscheme=torch.per_tensor_affine)\n",
       "            (v_lin): DynamicQuantizedLinear(in_features=768, out_features=768, dtype=torch.qint8, qscheme=torch.per_tensor_affine)\n",
       "            (out_lin): DynamicQuantizedLinear(in_features=768, out_features=768, dtype=torch.qint8, qscheme=torch.per_tensor_affine)\n",
       "          )\n",
       "          (sa_layer_norm): LayerNorm((768,), eps=1e-12, elementwise_affine=True)\n",
       "          (ffn): FFN(\n",
       "            (dropout): Dropout(p=0.1, inplace=False)\n",
       "            (lin1): DynamicQuantizedLinear(in_features=768, out_features=3072, dtype=torch.qint8, qscheme=torch.per_tensor_affine)\n",
       "            (lin2): DynamicQuantizedLinear(in_features=3072, out_features=768, dtype=torch.qint8, qscheme=torch.per_tensor_affine)\n",
       "            (activation): GELUActivation()\n",
       "          )\n",
       "          (output_layer_norm): LayerNorm((768,), eps=1e-12, elementwise_affine=True)\n",
       "        )\n",
       "        (4): TransformerBlock(\n",
       "          (attention): MultiHeadSelfAttention(\n",
       "            (dropout): Dropout(p=0.1, inplace=False)\n",
       "            (q_lin): DynamicQuantizedLinear(in_features=768, out_features=768, dtype=torch.qint8, qscheme=torch.per_tensor_affine)\n",
       "            (k_lin): DynamicQuantizedLinear(in_features=768, out_features=768, dtype=torch.qint8, qscheme=torch.per_tensor_affine)\n",
       "            (v_lin): DynamicQuantizedLinear(in_features=768, out_features=768, dtype=torch.qint8, qscheme=torch.per_tensor_affine)\n",
       "            (out_lin): DynamicQuantizedLinear(in_features=768, out_features=768, dtype=torch.qint8, qscheme=torch.per_tensor_affine)\n",
       "          )\n",
       "          (sa_layer_norm): LayerNorm((768,), eps=1e-12, elementwise_affine=True)\n",
       "          (ffn): FFN(\n",
       "            (dropout): Dropout(p=0.1, inplace=False)\n",
       "            (lin1): DynamicQuantizedLinear(in_features=768, out_features=3072, dtype=torch.qint8, qscheme=torch.per_tensor_affine)\n",
       "            (lin2): DynamicQuantizedLinear(in_features=3072, out_features=768, dtype=torch.qint8, qscheme=torch.per_tensor_affine)\n",
       "            (activation): GELUActivation()\n",
       "          )\n",
       "          (output_layer_norm): LayerNorm((768,), eps=1e-12, elementwise_affine=True)\n",
       "        )\n",
       "        (5): TransformerBlock(\n",
       "          (attention): MultiHeadSelfAttention(\n",
       "            (dropout): Dropout(p=0.1, inplace=False)\n",
       "            (q_lin): DynamicQuantizedLinear(in_features=768, out_features=768, dtype=torch.qint8, qscheme=torch.per_tensor_affine)\n",
       "            (k_lin): DynamicQuantizedLinear(in_features=768, out_features=768, dtype=torch.qint8, qscheme=torch.per_tensor_affine)\n",
       "            (v_lin): DynamicQuantizedLinear(in_features=768, out_features=768, dtype=torch.qint8, qscheme=torch.per_tensor_affine)\n",
       "            (out_lin): DynamicQuantizedLinear(in_features=768, out_features=768, dtype=torch.qint8, qscheme=torch.per_tensor_affine)\n",
       "          )\n",
       "          (sa_layer_norm): LayerNorm((768,), eps=1e-12, elementwise_affine=True)\n",
       "          (ffn): FFN(\n",
       "            (dropout): Dropout(p=0.1, inplace=False)\n",
       "            (lin1): DynamicQuantizedLinear(in_features=768, out_features=3072, dtype=torch.qint8, qscheme=torch.per_tensor_affine)\n",
       "            (lin2): DynamicQuantizedLinear(in_features=3072, out_features=768, dtype=torch.qint8, qscheme=torch.per_tensor_affine)\n",
       "            (activation): GELUActivation()\n",
       "          )\n",
       "          (output_layer_norm): LayerNorm((768,), eps=1e-12, elementwise_affine=True)\n",
       "        )\n",
       "      )\n",
       "    )\n",
       "  )\n",
       "  (pre_classifier): DynamicQuantizedLinear(in_features=768, out_features=768, dtype=torch.qint8, qscheme=torch.per_tensor_affine)\n",
       "  (classifier): DynamicQuantizedLinear(in_features=768, out_features=2, dtype=torch.qint8, qscheme=torch.per_tensor_affine)\n",
       "  (dropout): Dropout(p=0.2, inplace=False)\n",
       ")"
      ]
     },
     "execution_count": 45,
     "metadata": {},
     "output_type": "execute_result"
    }
   ],
   "source": [
    "model_seq_classification = model_bert.model\n",
    "model_seq_classification.to('cpu')\n",
    "quantization.quantize_dynamic(model_seq_classification, {torch.nn.Linear}, dtype = torch.qint8)"
   ]
  },
  {
   "cell_type": "code",
   "execution_count": 46,
   "id": "01658b7a",
   "metadata": {},
   "outputs": [
    {
     "name": "stdout",
     "output_type": "stream",
     "text": [
      "Size (MB): 267.859057\n"
     ]
    }
   ],
   "source": [
    "print_size_of_model(model_seq_classification)"
   ]
  },
  {
   "cell_type": "code",
   "execution_count": 47,
   "id": "882ba955",
   "metadata": {},
   "outputs": [
    {
     "data": {
      "text/plain": [
       "DistilBertForSequenceClassification(\n",
       "  (distilbert): DistilBertModel(\n",
       "    (embeddings): Embeddings(\n",
       "      (word_embeddings): Embedding(30522, 768, padding_idx=0)\n",
       "      (position_embeddings): Embedding(512, 768)\n",
       "      (LayerNorm): LayerNorm((768,), eps=1e-12, elementwise_affine=True)\n",
       "      (dropout): Dropout(p=0.1, inplace=False)\n",
       "    )\n",
       "    (transformer): Transformer(\n",
       "      (layer): ModuleList(\n",
       "        (0): TransformerBlock(\n",
       "          (attention): MultiHeadSelfAttention(\n",
       "            (dropout): Dropout(p=0.1, inplace=False)\n",
       "            (q_lin): Linear(in_features=768, out_features=768, bias=True)\n",
       "            (k_lin): Linear(in_features=768, out_features=768, bias=True)\n",
       "            (v_lin): Linear(in_features=768, out_features=768, bias=True)\n",
       "            (out_lin): Linear(in_features=768, out_features=768, bias=True)\n",
       "          )\n",
       "          (sa_layer_norm): LayerNorm((768,), eps=1e-12, elementwise_affine=True)\n",
       "          (ffn): FFN(\n",
       "            (dropout): Dropout(p=0.1, inplace=False)\n",
       "            (lin1): Linear(in_features=768, out_features=3072, bias=True)\n",
       "            (lin2): Linear(in_features=3072, out_features=768, bias=True)\n",
       "            (activation): GELUActivation()\n",
       "          )\n",
       "          (output_layer_norm): LayerNorm((768,), eps=1e-12, elementwise_affine=True)\n",
       "        )\n",
       "        (1): TransformerBlock(\n",
       "          (attention): MultiHeadSelfAttention(\n",
       "            (dropout): Dropout(p=0.1, inplace=False)\n",
       "            (q_lin): Linear(in_features=768, out_features=768, bias=True)\n",
       "            (k_lin): Linear(in_features=768, out_features=768, bias=True)\n",
       "            (v_lin): Linear(in_features=768, out_features=768, bias=True)\n",
       "            (out_lin): Linear(in_features=768, out_features=768, bias=True)\n",
       "          )\n",
       "          (sa_layer_norm): LayerNorm((768,), eps=1e-12, elementwise_affine=True)\n",
       "          (ffn): FFN(\n",
       "            (dropout): Dropout(p=0.1, inplace=False)\n",
       "            (lin1): Linear(in_features=768, out_features=3072, bias=True)\n",
       "            (lin2): Linear(in_features=3072, out_features=768, bias=True)\n",
       "            (activation): GELUActivation()\n",
       "          )\n",
       "          (output_layer_norm): LayerNorm((768,), eps=1e-12, elementwise_affine=True)\n",
       "        )\n",
       "        (2): TransformerBlock(\n",
       "          (attention): MultiHeadSelfAttention(\n",
       "            (dropout): Dropout(p=0.1, inplace=False)\n",
       "            (q_lin): Linear(in_features=768, out_features=768, bias=True)\n",
       "            (k_lin): Linear(in_features=768, out_features=768, bias=True)\n",
       "            (v_lin): Linear(in_features=768, out_features=768, bias=True)\n",
       "            (out_lin): Linear(in_features=768, out_features=768, bias=True)\n",
       "          )\n",
       "          (sa_layer_norm): LayerNorm((768,), eps=1e-12, elementwise_affine=True)\n",
       "          (ffn): FFN(\n",
       "            (dropout): Dropout(p=0.1, inplace=False)\n",
       "            (lin1): Linear(in_features=768, out_features=3072, bias=True)\n",
       "            (lin2): Linear(in_features=3072, out_features=768, bias=True)\n",
       "            (activation): GELUActivation()\n",
       "          )\n",
       "          (output_layer_norm): LayerNorm((768,), eps=1e-12, elementwise_affine=True)\n",
       "        )\n",
       "        (3): TransformerBlock(\n",
       "          (attention): MultiHeadSelfAttention(\n",
       "            (dropout): Dropout(p=0.1, inplace=False)\n",
       "            (q_lin): Linear(in_features=768, out_features=768, bias=True)\n",
       "            (k_lin): Linear(in_features=768, out_features=768, bias=True)\n",
       "            (v_lin): Linear(in_features=768, out_features=768, bias=True)\n",
       "            (out_lin): Linear(in_features=768, out_features=768, bias=True)\n",
       "          )\n",
       "          (sa_layer_norm): LayerNorm((768,), eps=1e-12, elementwise_affine=True)\n",
       "          (ffn): FFN(\n",
       "            (dropout): Dropout(p=0.1, inplace=False)\n",
       "            (lin1): Linear(in_features=768, out_features=3072, bias=True)\n",
       "            (lin2): Linear(in_features=3072, out_features=768, bias=True)\n",
       "            (activation): GELUActivation()\n",
       "          )\n",
       "          (output_layer_norm): LayerNorm((768,), eps=1e-12, elementwise_affine=True)\n",
       "        )\n",
       "        (4): TransformerBlock(\n",
       "          (attention): MultiHeadSelfAttention(\n",
       "            (dropout): Dropout(p=0.1, inplace=False)\n",
       "            (q_lin): Linear(in_features=768, out_features=768, bias=True)\n",
       "            (k_lin): Linear(in_features=768, out_features=768, bias=True)\n",
       "            (v_lin): Linear(in_features=768, out_features=768, bias=True)\n",
       "            (out_lin): Linear(in_features=768, out_features=768, bias=True)\n",
       "          )\n",
       "          (sa_layer_norm): LayerNorm((768,), eps=1e-12, elementwise_affine=True)\n",
       "          (ffn): FFN(\n",
       "            (dropout): Dropout(p=0.1, inplace=False)\n",
       "            (lin1): Linear(in_features=768, out_features=3072, bias=True)\n",
       "            (lin2): Linear(in_features=3072, out_features=768, bias=True)\n",
       "            (activation): GELUActivation()\n",
       "          )\n",
       "          (output_layer_norm): LayerNorm((768,), eps=1e-12, elementwise_affine=True)\n",
       "        )\n",
       "        (5): TransformerBlock(\n",
       "          (attention): MultiHeadSelfAttention(\n",
       "            (dropout): Dropout(p=0.1, inplace=False)\n",
       "            (q_lin): Linear(in_features=768, out_features=768, bias=True)\n",
       "            (k_lin): Linear(in_features=768, out_features=768, bias=True)\n",
       "            (v_lin): Linear(in_features=768, out_features=768, bias=True)\n",
       "            (out_lin): Linear(in_features=768, out_features=768, bias=True)\n",
       "          )\n",
       "          (sa_layer_norm): LayerNorm((768,), eps=1e-12, elementwise_affine=True)\n",
       "          (ffn): FFN(\n",
       "            (dropout): Dropout(p=0.1, inplace=False)\n",
       "            (lin1): Linear(in_features=768, out_features=3072, bias=True)\n",
       "            (lin2): Linear(in_features=3072, out_features=768, bias=True)\n",
       "            (activation): GELUActivation()\n",
       "          )\n",
       "          (output_layer_norm): LayerNorm((768,), eps=1e-12, elementwise_affine=True)\n",
       "        )\n",
       "      )\n",
       "    )\n",
       "  )\n",
       "  (pre_classifier): Linear(in_features=768, out_features=768, bias=True)\n",
       "  (classifier): Linear(in_features=768, out_features=2, bias=True)\n",
       "  (dropout): Dropout(p=0.2, inplace=False)\n",
       ")"
      ]
     },
     "execution_count": 47,
     "metadata": {},
     "output_type": "execute_result"
    }
   ],
   "source": [
    "model_seq_classification.to(\"cuda\")"
   ]
  },
  {
   "cell_type": "markdown",
   "id": "84563807",
   "metadata": {},
   "source": [
    "## Predictiction - Bert: "
   ]
  },
  {
   "cell_type": "code",
   "execution_count": null,
   "id": "87c9504a",
   "metadata": {},
   "outputs": [],
   "source": []
  }
 ],
 "metadata": {
  "kernelspec": {
   "display_name": "Python (ml_env)",
   "language": "python",
   "name": "ml_env"
  },
  "language_info": {
   "codemirror_mode": {
    "name": "ipython",
    "version": 3
   },
   "file_extension": ".py",
   "mimetype": "text/x-python",
   "name": "python",
   "nbconvert_exporter": "python",
   "pygments_lexer": "ipython3",
   "version": "3.9.4"
  }
 },
 "nbformat": 4,
 "nbformat_minor": 5
}
